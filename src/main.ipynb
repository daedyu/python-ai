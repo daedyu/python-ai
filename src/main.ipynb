{
 "cells": [
  {
   "metadata": {},
   "cell_type": "code",
   "outputs": [],
   "execution_count": null,
   "source": [
    "###BSW\n",
    "import pandas as pd\n",
    "\n",
    "data = pd.read_csv('../public/cpi.csv')\n",
    "\n",
    "# data.columns = ['dummy', '연도'] + [str(year) for year in range(1970, 2024)]\n",
    "\n",
    "data = data.transpose() # 행 열을 돌려 반전시킨다\n",
    "\n",
    "# data = data.drop('dummy', axis=0)\n",
    "\n",
    "for i in range(2, len(data.columns)):\n",
    "    del data[i]\n",
    "\n",
    "data = data.drop('단위:', axis=0)\n",
    "data = data.drop('2020=100, %', axis=0)\n",
    "data = data.drop('2023', axis=0)\n",
    "\n",
    "# data = data.rename_axis('연도', inplace=True)\n",
    "\n",
    "# data = data.rename(columns={'0': '소비자물가총지수'})\n",
    "\n",
    "data.columns = ['소비자물가지수', '소비자물가상승률']\n",
    "\n",
    "\n",
    "data\n",
    "\n",
    "# ###지피티\n",
    "# import pandas as pd\n",
    "# \n",
    "# # CSV 파일 읽기\n",
    "# data = pd.read_csv('../public/cpi.csv')\n",
    "# \n",
    "# # 행/열 반전\n",
    "# data = data.transpose()\n",
    "# \n",
    "# # 필요 없는 행 제거 (기본적으로 index 이름이 행 이름이 됨)\n",
    "# data = data.drop(['단위:', '2020=100, %', '2023'], axis=0)\n",
    "# \n",
    "# # 열 이름 재지정\n",
    "# data.columns = ['소비자물가지수', '소비자물가상승률']\n",
    "# \n",
    "# # 결과 출력\n",
    "# print(data)"
   ],
   "id": "dbcd328cf4e40b7f"
  },
  {
   "metadata": {},
   "cell_type": "code",
   "outputs": [],
   "execution_count": null,
   "source": "print(data)",
   "id": "f521937811344797"
  },
  {
   "metadata": {},
   "cell_type": "code",
   "outputs": [],
   "execution_count": null,
   "source": "",
   "id": "d3910eb25570e83e"
  }
 ],
 "metadata": {
  "kernelspec": {
   "display_name": "Python 3",
   "language": "python",
   "name": "python3"
  },
  "language_info": {
   "codemirror_mode": {
    "name": "ipython",
    "version": 2
   },
   "file_extension": ".py",
   "mimetype": "text/x-python",
   "name": "python",
   "nbconvert_exporter": "python",
   "pygments_lexer": "ipython2",
   "version": "2.7.6"
  }
 },
 "nbformat": 4,
 "nbformat_minor": 5
}
